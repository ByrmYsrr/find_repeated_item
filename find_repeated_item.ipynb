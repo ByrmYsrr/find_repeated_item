{
 "cells": [
  {
   "cell_type": "code",
   "execution_count": 6,
   "metadata": {},
   "outputs": [
    {
     "name": "stdout",
     "output_type": "stream",
     "text": [
      "3\n"
     ]
    }
   ],
   "source": [
    "my_list= [3,5,9,7,3]\n",
    "elemansayisi=len(my_list)\n",
    "tekrarvarmi=False\n",
    "for i in range(0,elemansayisi):\n",
    "        karsilastir =my_list[i]\n",
    "        for j in range(i+1, elemansayisi ):\n",
    "            if my_list[j]==karsilastir:\n",
    "              print(my_list[j])\n",
    "              tekrarvarmi =True\n",
    "        if tekrarvarmi ==True:\n",
    "            break"
   ]
  },
  {
   "cell_type": "code",
   "execution_count": null,
   "metadata": {},
   "outputs": [],
   "source": []
  }
 ],
 "metadata": {
  "kernelspec": {
   "display_name": "Python 3",
   "language": "python",
   "name": "python3"
  },
  "language_info": {
   "codemirror_mode": {
    "name": "ipython",
    "version": 3
   },
   "file_extension": ".py",
   "mimetype": "text/x-python",
   "name": "python",
   "nbconvert_exporter": "python",
   "pygments_lexer": "ipython3",
   "version": "3.7.1"
  }
 },
 "nbformat": 4,
 "nbformat_minor": 2
}
